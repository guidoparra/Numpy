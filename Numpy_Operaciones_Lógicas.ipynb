{
  "nbformat": 4,
  "nbformat_minor": 0,
  "metadata": {
    "colab": {
      "provenance": []
    },
    "kernelspec": {
      "name": "python3",
      "display_name": "Python 3"
    },
    "language_info": {
      "name": "python"
    }
  },
  "cells": [
    {
      "cell_type": "markdown",
      "source": [
        "\n",
        "\n",
        "Operaciones Lógicas: El indexado booleano es una operación que permite conocer a nivel elemento si un array cumple o no con una determinada condición.\n",
        "\n"
      ],
      "metadata": {
        "id": "vfpRSETK9SQ6"
      }
    },
    {
      "cell_type": "code",
      "source": [
        "cantLavados = int(input(\"Ingrese la cantidad de lavados que hace en un mes\"))\n",
        "costoLavadero = float(input(\"Ingrese el costo de cada lavado en el lavadero automático\"))\n",
        "precioContado = float(input(\"Ingrese el precio de contado del lavarropas\"))\n",
        "\n",
        "gastosLavadero = costoLavadero * cantLavados\n",
        "opcionPago_6 = precioContado / 6\n",
        "opcionPago_12 = (precioContado * 30 / 100 + precioContado) / 12\n",
        "opcionPago_18 = (precioContado * 50 / 100 + precioContado) / 18\n",
        "\n",
        "if gastosLavadero * 2 > opcionPago_6:\n",
        "    print(\"Conviene comprar el lavarropas en 6 cuotas sin interés. Usted pagará por mes: \",opcionPago_6,\" durante 6 meses\")\n",
        "elif gastosLavadero * 2 > opcionPago_12 and opcionPago_12 < opcionPago_6:\n",
        "    print(\"Conviene comprar el lavarropas en 12 cuotas. Usted pagará: \",opcionPago_12,\" durante 12 meses\")\n",
        "elif gastosLavadero * 2 > opcionPago_18 and opcionPago_18 < opcionPago_12 and opcionPago_18 < opcionPago_6:\n",
        "    print(\"Conviene comprar el lavarropas en 18 cuotas. Usted pagará: \",opcionPago_18, \" durante 18 meses\")\n",
        "else:\n",
        "    print(\"Siga llevando la ropa al lavadero\")"
      ],
      "metadata": {
        "colab": {
          "base_uri": "https://localhost:8080/"
        },
        "id": "QwdYfElgQpTN",
        "outputId": "d190c4f1-d80d-46a0-83b0-6bdbc39c5a11"
      },
      "execution_count": null,
      "outputs": [
        {
          "output_type": "stream",
          "name": "stdout",
          "text": [
            "Ingrese la cantidad de lavados que hace en un mes2\n",
            "Ingrese el costo de cada lavado en el lavadero automático50\n",
            "Ingrese el precio de contado del lavarropas2500\n",
            "Siga llevando la ropa al lavadero\n"
          ]
        }
      ]
    },
    {
      "cell_type": "code",
      "source": [
        "#INDEXADO BOOLEANO\n",
        "\n",
        "import numpy as np\n",
        "\n",
        "values = np.array([[73,86,90,20],[96,55,15,48],[38,63,96,95],[13,87,32,96]])\n",
        "print(values)\n",
        "\n",
        "print()\n",
        "\n",
        "ejemplo1 = values > 50 # indexado booleano\n",
        "print(ejemplo1)\n",
        "\n",
        "print()\n",
        "\n",
        "ejemplo2 = values[values > 50] # uso de máscara\n",
        "print(ejemplo2)\n",
        "\n",
        "print()\n",
        "\n",
        "ejemplo3 = values[values > 50] = -1\n",
        "print(ejemplo3)\n",
        "\n"
      ],
      "metadata": {
        "colab": {
          "base_uri": "https://localhost:8080/"
        },
        "id": "zY2aOTOn9YOB",
        "outputId": "153e51aa-2453-497e-88ad-64d2c28368bf"
      },
      "execution_count": null,
      "outputs": [
        {
          "output_type": "stream",
          "name": "stdout",
          "text": [
            "[[73 86 90 20]\n",
            " [96 55 15 48]\n",
            " [38 63 96 95]\n",
            " [13 87 32 96]]\n",
            "\n",
            "[[ True  True  True False]\n",
            " [ True  True False False]\n",
            " [False  True  True  True]\n",
            " [False  True False  True]]\n",
            "\n",
            "[73 86 90 96 55 63 96 95 87 96]\n",
            "\n",
            "-1\n"
          ]
        }
      ]
    },
    {
      "cell_type": "code",
      "source": [
        "# INDEXADO BOOLEANO CON CONDICIONES LÓGICAS\n",
        "\n",
        "import numpy as np\n",
        "\n",
        "values = np.array([[73,86,90,20],[96,55,15,48],[38,63,96,95],[13,87,32,96]])\n",
        "print(values)\n",
        "\n",
        "print()\n",
        "\n",
        "ejemplo4 = (values < 25) | (values > 75) # | equivale a \"or\"\n",
        "print(ejemplo4)\n",
        "\n",
        "print()\n",
        "\n",
        "ejemplo5 = (values > 258) & (values < 75) # & equivale a \"and\"\n",
        "print(ejemplo5)"
      ],
      "metadata": {
        "colab": {
          "base_uri": "https://localhost:8080/"
        },
        "id": "tIwMBNVHBLqz",
        "outputId": "90d531d4-c736-43ec-93b9-81deba3cd62b"
      },
      "execution_count": null,
      "outputs": [
        {
          "output_type": "stream",
          "name": "stdout",
          "text": [
            "[[73 86 90 20]\n",
            " [96 55 15 48]\n",
            " [38 63 96 95]\n",
            " [13 87 32 96]]\n",
            "\n",
            "[[False  True  True  True]\n",
            " [ True False  True False]\n",
            " [False False  True  True]\n",
            " [ True  True False  True]]\n",
            "\n",
            "[[False False False False]\n",
            " [False False False False]\n",
            " [False False False False]\n",
            " [False False False False]]\n"
          ]
        }
      ]
    },
    {
      "cell_type": "markdown",
      "source": [
        "Para obtener los indices del array que satisfacen una determinada condición, NumPy nos proporciona el método **where()**"
      ],
      "metadata": {
        "id": "1JwbdhHjDxCY"
      }
    },
    {
      "cell_type": "code",
      "source": [
        "# WHERE\n",
        "\n",
        "import numpy as np\n",
        "\n",
        "values = np.array([[73,86,90,20],[96,55,15,48],[38,63,96,95],[13,87,32,96]])\n",
        "print(values)\n",
        "\n",
        "print()\n",
        "\n",
        "idx = np.where(values > 50) # devuelve filas y columnas\n",
        "print(idx)\n",
        "\n",
        "print()\n",
        "\n",
        "values[idx] # devuelve los valores que cumplen mi condición"
      ],
      "metadata": {
        "colab": {
          "base_uri": "https://localhost:8080/"
        },
        "id": "cuopMXIDETOR",
        "outputId": "22fc8c24-a7c2-4e13-b575-c65c3cc28a7b"
      },
      "execution_count": null,
      "outputs": [
        {
          "output_type": "stream",
          "name": "stdout",
          "text": [
            "[[73 86 90 20]\n",
            " [96 55 15 48]\n",
            " [38 63 96 95]\n",
            " [13 87 32 96]]\n",
            "\n",
            "(array([0, 0, 0, 1, 1, 2, 2, 2, 3, 3]), array([0, 1, 2, 0, 1, 1, 2, 3, 1, 3]))\n",
            "\n"
          ]
        },
        {
          "output_type": "execute_result",
          "data": {
            "text/plain": [
              "array([73, 86, 90, 96, 55, 63, 96, 95, 87, 96])"
            ]
          },
          "metadata": {},
          "execution_count": 17
        }
      ]
    },
    {
      "cell_type": "markdown",
      "source": [
        "Para comparar dos arrays se puede usar el operador == del mismo modo que con cualquier otro objeto de Python. El resultado se evalúa a nivel de elemento."
      ],
      "metadata": {
        "id": "fn1as4apIP7b"
      }
    },
    {
      "cell_type": "code",
      "source": [
        "#EQUAL\n",
        "\n",
        "m1 = np.array([[1,2], [3,4]])\n",
        "m3 = np.array([[1,2], [3,4]])\n",
        "\n",
        "resultado = m1 == m3 # verifica si el elemento de la primera fila/columna del array es igual al otro\n",
        "print(resultado)\n",
        "\n",
        "print()\n",
        "\n",
        "resultado_total = np.array_equal(m1, m3) # EQUAL comparo ambos arrays en su totalidad\n",
        "print(resultado_total)"
      ],
      "metadata": {
        "colab": {
          "base_uri": "https://localhost:8080/"
        },
        "id": "L-_UFua9Ic6K",
        "outputId": "3884f4c7-3f25-4cbb-f5ea-285afc774572"
      },
      "execution_count": null,
      "outputs": [
        {
          "output_type": "stream",
          "name": "stdout",
          "text": [
            "[[ True  True]\n",
            " [ True  True]]\n",
            "\n",
            "True\n"
          ]
        }
      ]
    },
    {
      "cell_type": "markdown",
      "source": [
        "Operaciones sobre conjuntos: **Union**"
      ],
      "metadata": {
        "id": "Me9ovzQWJ8Fr"
      }
    },
    {
      "cell_type": "code",
      "source": [
        "# UNION1d\n",
        "\n",
        "x = np.array([9, 4, 11, 3, 14, 5, 13, 12, 7, 14])\n",
        "y = np.array([17, 9, 19, 4, 18, 4, 7, 13, 11, 10])\n",
        "\n",
        "union = np.union1d(x, y) #UNION de ambos conjuntos\n",
        "print(union)"
      ],
      "metadata": {
        "colab": {
          "base_uri": "https://localhost:8080/"
        },
        "id": "RKz-NCw0Qhv5",
        "outputId": "b3fe3fcb-dbdc-495f-b539-c839cca14af6"
      },
      "execution_count": null,
      "outputs": [
        {
          "output_type": "stream",
          "name": "stdout",
          "text": [
            "[ 3  4  5  7  9 10 11 12 13 14 17 18 19]\n"
          ]
        }
      ]
    },
    {
      "cell_type": "markdown",
      "source": [
        "Ordenación: existen dos formas de ordenar cualquier estructura de datos, una que modifica los valores (destructiva) y otra que devuelve nuevos valores(no destructiva). En el caso de NumPy también es así."
      ],
      "metadata": {
        "id": "RA3UqxJORGbR"
      }
    },
    {
      "cell_type": "code",
      "source": [
        "from numpy.core.multiarray import array\n",
        "# SORT\n",
        "\n",
        "import numpy as np\n",
        "\n",
        "values= array([23,24,92,88,75,68,12,91,94,24,9,21,42,3,66]) #array unidimensional\n",
        "print(values)\n",
        "\n",
        "np.sort(values) #no destructivo, es decir, mantiene valores originales\n",
        "\n",
        "print()\n",
        "\n",
        "values_1=np.array([52,23,90,46,61,63,74,59,75,5,58,70,21,7,80,52])\n",
        "values_2=np.reshape(values_1, (4,4))\n",
        "print(values_2)\n",
        "\n",
        "print()\n",
        "\n",
        "np.sort(values_2, axis=1) # equivale a decir que me ordene por defecto de menor a mayor las filas\n",
        "\n",
        "print()\n",
        "\n",
        "column=np.sort(values_2, axis=0) # equivale a decir que me ordene por defecto de menor a mayor las columnas\n",
        "print(column)\n",
        "\n"
      ],
      "metadata": {
        "colab": {
          "base_uri": "https://localhost:8080/"
        },
        "id": "Vb5egIpfRWrd",
        "outputId": "c6cb8a2b-3898-472f-b5cd-cf03d3318acb"
      },
      "execution_count": null,
      "outputs": [
        {
          "output_type": "stream",
          "name": "stdout",
          "text": [
            "[23 24 92 88 75 68 12 91 94 24  9 21 42  3 66]\n",
            "\n",
            "[[52 23 90 46]\n",
            " [61 63 74 59]\n",
            " [75  5 58 70]\n",
            " [21  7 80 52]]\n",
            "\n",
            "\n",
            "[[21  5 58 46]\n",
            " [52  7 74 52]\n",
            " [61 23 80 59]\n",
            " [75 63 90 70]]\n"
          ]
        }
      ]
    },
    {
      "cell_type": "markdown",
      "source": [
        "Contar la cantidad de valores de un array"
      ],
      "metadata": {
        "id": "a-qzD82AU43w"
      }
    },
    {
      "cell_type": "code",
      "source": [
        "# UNIQUE, RETURN_COUNTS, COUNT_NONZERO\n",
        "\n",
        "import numpy as np\n",
        "\n",
        "randomized= np.random.randint(1, 11, size=1000) #\n",
        "print(randomized)\n",
        "\n",
        "print()\n",
        "\n",
        "unique= np.unique(randomized) #unique contará los valores unicos de mi array\n",
        "print(unique)\n",
        "\n",
        "print()\n",
        "\n",
        "unique_2= np.unique(randomized, return_counts=True) #valores únicos incluyendo la frecuencia de repetición de c/u en mi array\n",
        "print(unique_2)\n",
        "\n",
        "print()\n",
        "\n",
        "unique_3= np.count_nonzero(randomized) #contar valores distintos del número cero\n",
        "print(unique_3)\n",
        "\n",
        "print()\n",
        "\n",
        "unique_4= np.count_nonzero(randomized > 5) #condición lógica: contar elementos mayores a 5\n",
        "print(unique_4)"
      ],
      "metadata": {
        "colab": {
          "base_uri": "https://localhost:8080/"
        },
        "id": "HVctGRYFU-8D",
        "outputId": "f9ddf127-e352-4249-8dcb-d1828225cc0a"
      },
      "execution_count": null,
      "outputs": [
        {
          "output_type": "stream",
          "name": "stdout",
          "text": [
            "[ 9  8  5  1  6  4  8  9  4  8  9  6  4  2  9  6  2  2  1  6  8  9  4  5\n",
            "  3  3  5  6  2  3  1  7  4  9  7  7  4  1 10  7  2  3  9  9  8 10  9  1\n",
            "  7  6  1  1  7 10  5  6  1  3  6  1  7  5  6  2 10  8  6  9  2  4  9  9\n",
            " 10  4  1  2  7  1  8  9  5  9  1 10  6  9 10  5  5  2 10  3  4  3  8  1\n",
            "  5  4  7  2  5  7  6 10 10 10  8  5  9  9  6  4 10  7  4  5  5  6  2  2\n",
            "  2  1  1  7  7  3  6  5  5  9  2  5  9  2  3  1  5  7  3  9  8  4 10  3\n",
            "  4  5  4  4  1  5  8  4  2  9  5  1 10 10  1  8  1  1 10  5  5  3  7  6\n",
            "  4  3  3  7  3  2  3  4  9  2  7  4  3  1  5  8  1  4  3  4  4  2  2  8\n",
            "  7  6  4  1  4  2  3  2  6  8  7  2  8  7  2  1  1  3  5 10  9  9  7  7\n",
            "  6  2  4  9 10  5  8  2  3  5  3 10  7  8  6 10  8  9  1  6  5  2  3  9\n",
            "  9  1  3  7  5  3  1  7  4  1  4  4  1  9  7  1  5  1  6  4  2  9  7  6\n",
            "  1  5  1 10  9  5  6  7  2  7  4 10  7  4  9  9  3  5  9  3  6  1  6  5\n",
            "  4  6  2  7  8 10  2  1  9  7  8  8  9  4  7  3  1  7  6 10  5  3  5 10\n",
            "  9  9  9  1  6  5  7 10  4  4  4  8  1  7  1  3  4  9  4 10  8  9 10  5\n",
            "  5  2  5  3  1  8  7  2  9  4 10 10  4  5 10  9  8  8  7  1  5  5  1  4\n",
            "  5  9  6 10  1  9  2  6  7  8  3  6  9  1  9  6  7  2 10  9  1  5  3  4\n",
            "  4  7  7  1  8  7  3  3  6  8  7  3  4  6  6  4  9  3  9  9  9  3 10  9\n",
            "  6  9  1  2  9  9  1  6  4  8  2  7  5  3  8  5  2  9  1  4  9  8  9  7\n",
            "  1 10  6  7  9  1  9 10  9  7  6  7  3  3 10  5  2  7  6  5 10  8 10  2\n",
            "  6  4  7  7 10  2  2  7  9  7  5  3  7  8  7  9  8  2  7  3  4  2  9  6\n",
            "  2  5  9  1  3  4  5  6  7 10  3  2  6  2 10  9  8  3  7  4  7  1  2 10\n",
            "  4  1  8 10  2  9  9 10  8 10  5  4  4  6  2  6  1  6  3  3  4 10  5  5\n",
            "  4  1  9  7 10  8  1  2  8  3  1  4  2  3  5  2  9 10 10  1 10 10  9  1\n",
            "  7 10  3  1  4  9  2  3  1  2  8  6  1  3  7  9  1  2  8  9  5  5  2  5\n",
            "  9  1 10  9  3  3  7  7  9 10  2 10  3  1  9  2  3 10  5  5  3  3  2  5\n",
            "  7  1  6  2  4  7  5 10  9  6  6  7  8  3  3  2  7  2  4 10  3  2  5  7\n",
            "  7  3 10  5 10  4  2  4  4 10  3  8 10  3  6  7 10  8  4  9  9  4  9  2\n",
            "  4  9 10  6  9  2  7  8  2  5  2  6  3  3  8  4  5  7  1 10  7  8  3  6\n",
            "  7  7  9  6  9  2  3  8  2  2 10  2  7  8  4  2  5  2  1  2  5  5 10  2\n",
            "  2  8  1  2 10  9 10  3  2  3  4  1 10  4  5  2 10  4  1  4  8  4  8  5\n",
            "  8  9  5  7  7  2  1  6  1  5  9  6  2 10  4  6  6  1  1  4  8  9  9  3\n",
            "  1  7  6  2  5  9  4  1  5  2  2  2  8  8  9 10  6  2  2  1  9  1  9  4\n",
            "  3  8  1  3  8  9  3 10  3  9  1  2  6  6  2  9  2  2  3  6  2  4  8  4\n",
            "  5  2  1  1  4  5 10  3  8  6  4  7  8  5 10  6  1  7  7  6 10  3  9 10\n",
            "  6  5  6  4  5 10  1  3  3  5  9  1  1  9  1  4  4  1  9  7  5  4  2  1\n",
            "  2  2  3  9  4  3 10  9  4  1  6  5  9  8  5  1  4  7  5  3  5  1  2  7\n",
            " 10  2 10  6  8 10  8  1  5  6  6  4  7  2  1  7  6  5  1  1 10  3  9 10\n",
            " 10  5 10  3  4  1  9 10  8  1  4  1  9  1  9  6  4  8  1  6  8  9  3  8\n",
            "  2  2  2  6  1  9  2  6  1  8  7  4  8  7  8  8  5  4  7  4  5  8  9  7\n",
            "  6  4 10  3 10  5  8  1  7  7  8  4  1  9  8  5  7  2  3  2  2  3  3  3\n",
            "  6  3 10  9  6  9  8  8  9  8  6  4 10  7  6  8  9  7  9  8  5  7  8  7\n",
            "  2  2  2  5  2  5  4  7  2  6 10  1  3  3  1  6]\n",
            "\n",
            "[ 1  2  3  4  5  6  7  8  9 10]\n",
            "\n",
            "(array([ 1,  2,  3,  4,  5,  6,  7,  8,  9, 10]), array([111, 113,  95, 100,  96,  87, 101,  84, 119,  94]))\n",
            "\n",
            "1000\n",
            "\n",
            "485\n"
          ]
        }
      ]
    },
    {
      "cell_type": "markdown",
      "source": [
        "Funciones Universales."
      ],
      "metadata": {
        "id": "V3BuOKPlIza9"
      }
    },
    {
      "cell_type": "code",
      "source": [
        "# SQRT\n",
        "# SIN\n",
        "# CEIL\n",
        "# FLOOR\n",
        "# LOG\n",
        "\n",
        "import numpy as np\n",
        "\n",
        "values = np.array([[48.32172375, 24.89651106, 77.49724241],\n",
        "               [77.8184191, 22.54051494, 65.11282444],\n",
        "               [5.54960482, 59.06720303, 62.52817198]])\n",
        "\n",
        "np.sqrt(values) # sqrt raiz cuadrada de cada número\n",
        "\n",
        "np.sin(values)  # seno\n",
        "\n",
        "np.ceil(values) # redondear hacia arriba\n",
        "\n",
        "np.floor(values)  # redondear hacia abajo\n",
        "\n",
        "np.log(values)  # logaritmo"
      ],
      "metadata": {
        "id": "8URz2wrSjrpY",
        "colab": {
          "base_uri": "https://localhost:8080/"
        },
        "outputId": "88323bcc-f66f-4101-961a-2996a6fde65d"
      },
      "execution_count": null,
      "outputs": [
        {
          "output_type": "execute_result",
          "data": {
            "text/plain": [
              "array([[3.87788123, 3.21472768, 4.35024235],\n",
              "       [4.35437815, 3.11531435, 4.17612153],\n",
              "       [1.71372672, 4.07867583, 4.13561721]])"
            ]
          },
          "metadata": {},
          "execution_count": 2
        }
      ]
    },
    {
      "cell_type": "markdown",
      "source": [
        "Funciones aplicadas por columna"
      ],
      "metadata": {
        "id": "oBO5BqY_psG3"
      }
    },
    {
      "cell_type": "code",
      "source": [
        "values = np.array([[8, 2, 7],\n",
        "                  [2, 0, 6],\n",
        "                  [6, 3, 4]])\n",
        "\n",
        "np.sum(values, axis=0) #  suma por columnas\n",
        "\n",
        "np.sum(values, axis=1)  # suma por filas\n",
        "\n",
        "np.prod(values, axis=0) # producto por columnas\n",
        "\n",
        "np.prod(values, axis=1) # producto por filas"
      ],
      "metadata": {
        "colab": {
          "base_uri": "https://localhost:8080/"
        },
        "id": "SNy1mdNaoenj",
        "outputId": "733bc480-a9c1-4dde-899f-7a3fb2344c66"
      },
      "execution_count": null,
      "outputs": [
        {
          "output_type": "execute_result",
          "data": {
            "text/plain": [
              "array([112,   0,  72])"
            ]
          },
          "metadata": {},
          "execution_count": 3
        }
      ]
    }
  ]
}