{
  "nbformat": 4,
  "nbformat_minor": 0,
  "metadata": {
    "colab": {
      "provenance": []
    },
    "kernelspec": {
      "name": "python3",
      "display_name": "Python 3"
    },
    "language_info": {
      "name": "python"
    }
  },
  "cells": [
    {
      "cell_type": "code",
      "execution_count": null,
      "metadata": {
        "colab": {
          "base_uri": "https://localhost:8080/",
          "height": 523
        },
        "id": "qvbbXY4Uq6Ma",
        "outputId": "055ebaa9-5262-493b-86e6-93e99bc76ed2"
      },
      "outputs": [
        {
          "output_type": "stream",
          "name": "stderr",
          "text": [
            "<ipython-input-1-25e93428d18c>:6: VisibleDeprecationWarning: Creating an ndarray from ragged nested sequences (which is a list-or-tuple of lists-or-tuples-or ndarrays with different lengths or shapes) is deprecated. If you meant to do this, you must specify 'dtype=object' when creating the ndarray.\n",
            "  dist = np.array([[-6.79006504, -0.01579498, -0.3298951, -5.30598975],\n"
          ]
        },
        {
          "output_type": "error",
          "ename": "TypeError",
          "evalue": "ignored",
          "traceback": [
            "\u001b[0;31m---------------------------------------------------------------------------\u001b[0m",
            "\u001b[0;31mTypeError\u001b[0m                                 Traceback (most recent call last)",
            "\u001b[0;32m<ipython-input-1-25e93428d18c>\u001b[0m in \u001b[0;36m<module>\u001b[0;34m\u001b[0m\n\u001b[1;32m     12\u001b[0m \u001b[0mnp\u001b[0m\u001b[0;34m.\u001b[0m\u001b[0mmean\u001b[0m\u001b[0;34m(\u001b[0m\u001b[0mdist\u001b[0m\u001b[0;34m)\u001b[0m \u001b[0;31m# calcular la media, suma todos los elementos dividido por la misma cantidad de elementos\u001b[0m\u001b[0;34m\u001b[0m\u001b[0;34m\u001b[0m\u001b[0m\n\u001b[1;32m     13\u001b[0m \u001b[0;34m\u001b[0m\u001b[0m\n\u001b[0;32m---> 14\u001b[0;31m \u001b[0mnp\u001b[0m\u001b[0;34m.\u001b[0m\u001b[0mstd\u001b[0m\u001b[0;34m(\u001b[0m\u001b[0mdist\u001b[0m\u001b[0;34m)\u001b[0m  \u001b[0;31m# calcular la desviación tipica\u001b[0m\u001b[0;34m\u001b[0m\u001b[0;34m\u001b[0m\u001b[0m\n\u001b[0m\u001b[1;32m     15\u001b[0m \u001b[0;34m\u001b[0m\u001b[0m\n\u001b[1;32m     16\u001b[0m \u001b[0mnp\u001b[0m\u001b[0;34m.\u001b[0m\u001b[0mmedian\u001b[0m\u001b[0;34m(\u001b[0m\u001b[0mdist\u001b[0m\u001b[0;34m)\u001b[0m \u001b[0;31m# calcular la mediana\u001b[0m\u001b[0;34m\u001b[0m\u001b[0;34m\u001b[0m\u001b[0m\n",
            "\u001b[0;32m/usr/local/lib/python3.9/dist-packages/numpy/core/overrides.py\u001b[0m in \u001b[0;36mstd\u001b[0;34m(*args, **kwargs)\u001b[0m\n",
            "\u001b[0;32m/usr/local/lib/python3.9/dist-packages/numpy/core/fromnumeric.py\u001b[0m in \u001b[0;36mstd\u001b[0;34m(a, axis, dtype, out, ddof, keepdims, where)\u001b[0m\n\u001b[1;32m   3613\u001b[0m             \u001b[0;32mreturn\u001b[0m \u001b[0mstd\u001b[0m\u001b[0;34m(\u001b[0m\u001b[0maxis\u001b[0m\u001b[0;34m=\u001b[0m\u001b[0maxis\u001b[0m\u001b[0;34m,\u001b[0m \u001b[0mdtype\u001b[0m\u001b[0;34m=\u001b[0m\u001b[0mdtype\u001b[0m\u001b[0;34m,\u001b[0m \u001b[0mout\u001b[0m\u001b[0;34m=\u001b[0m\u001b[0mout\u001b[0m\u001b[0;34m,\u001b[0m \u001b[0mddof\u001b[0m\u001b[0;34m=\u001b[0m\u001b[0mddof\u001b[0m\u001b[0;34m,\u001b[0m \u001b[0;34m**\u001b[0m\u001b[0mkwargs\u001b[0m\u001b[0;34m)\u001b[0m\u001b[0;34m\u001b[0m\u001b[0;34m\u001b[0m\u001b[0m\n\u001b[1;32m   3614\u001b[0m \u001b[0;34m\u001b[0m\u001b[0m\n\u001b[0;32m-> 3615\u001b[0;31m     return _methods._std(a, axis=axis, dtype=dtype, out=out, ddof=ddof,\n\u001b[0m\u001b[1;32m   3616\u001b[0m                          **kwargs)\n\u001b[1;32m   3617\u001b[0m \u001b[0;34m\u001b[0m\u001b[0m\n",
            "\u001b[0;32m/usr/local/lib/python3.9/dist-packages/numpy/core/_methods.py\u001b[0m in \u001b[0;36m_std\u001b[0;34m(a, axis, dtype, out, ddof, keepdims, where)\u001b[0m\n\u001b[1;32m    262\u001b[0m def _std(a, axis=None, dtype=None, out=None, ddof=0, keepdims=False, *,\n\u001b[1;32m    263\u001b[0m          where=True):\n\u001b[0;32m--> 264\u001b[0;31m     ret = _var(a, axis=axis, dtype=dtype, out=out, ddof=ddof,\n\u001b[0m\u001b[1;32m    265\u001b[0m                keepdims=keepdims, where=where)\n\u001b[1;32m    266\u001b[0m \u001b[0;34m\u001b[0m\u001b[0m\n",
            "\u001b[0;32m/usr/local/lib/python3.9/dist-packages/numpy/core/_methods.py\u001b[0m in \u001b[0;36m_var\u001b[0;34m(a, axis, dtype, out, ddof, keepdims, where)\u001b[0m\n\u001b[1;32m    220\u001b[0m         \u001b[0mdiv\u001b[0m \u001b[0;34m=\u001b[0m \u001b[0mrcount\u001b[0m\u001b[0;34m.\u001b[0m\u001b[0mreshape\u001b[0m\u001b[0;34m(\u001b[0m\u001b[0marrmean\u001b[0m\u001b[0;34m.\u001b[0m\u001b[0mshape\u001b[0m\u001b[0;34m)\u001b[0m\u001b[0;34m\u001b[0m\u001b[0;34m\u001b[0m\u001b[0m\n\u001b[1;32m    221\u001b[0m     \u001b[0;32mif\u001b[0m \u001b[0misinstance\u001b[0m\u001b[0;34m(\u001b[0m\u001b[0marrmean\u001b[0m\u001b[0;34m,\u001b[0m \u001b[0mmu\u001b[0m\u001b[0;34m.\u001b[0m\u001b[0mndarray\u001b[0m\u001b[0;34m)\u001b[0m\u001b[0;34m:\u001b[0m\u001b[0;34m\u001b[0m\u001b[0;34m\u001b[0m\u001b[0m\n\u001b[0;32m--> 222\u001b[0;31m         arrmean = um.true_divide(arrmean, div, out=arrmean, casting='unsafe',\n\u001b[0m\u001b[1;32m    223\u001b[0m                                  subok=False)\n\u001b[1;32m    224\u001b[0m     \u001b[0;32melif\u001b[0m \u001b[0mhasattr\u001b[0m\u001b[0;34m(\u001b[0m\u001b[0marrmean\u001b[0m\u001b[0;34m,\u001b[0m \u001b[0;34m\"dtype\"\u001b[0m\u001b[0;34m)\u001b[0m\u001b[0;34m:\u001b[0m\u001b[0;34m\u001b[0m\u001b[0;34m\u001b[0m\u001b[0m\n",
            "\u001b[0;31mTypeError\u001b[0m: unsupported operand type(s) for /: 'list' and 'int'"
          ]
        }
      ],
      "source": [
        "# MEAN\n",
        "# STD\n",
        "# MEDIAN\n",
        "import numpy as np\n",
        "\n",
        "dist = np.array([[-6.79006504, -0.01579498, -0.3298951, -5.30598975],\n",
        "                 [3.10720923, -4.09625791, -760624152, 2.3454259, 9.23399023],\n",
        "                 [-7.4394269, -9.68427195, 3.04248586, -5.9843767, 1.536578],\n",
        "                 [3.33953286, -8.41584411, -9.530274, -2.42827813, -7.34843663],\n",
        "                 [7.1508544, 5.51727548, -3.20216834, -5.00154367, -7.15715252]])\n",
        "\n",
        "np.mean(dist) # calcular la media, suma todos los elementos dividido por la misma cantidad de elementos\n",
        "\n",
        "np.std(dist)  # calcular la desviación tipica\n",
        "\n",
        "np.median(dist) # calcular la mediana"
      ]
    },
    {
      "cell_type": "markdown",
      "source": [
        "Encontrar los máximos o minimos en el manejo de datos:"
      ],
      "metadata": {
        "id": "JtFUfAZjzkMe"
      }
    },
    {
      "cell_type": "code",
      "source": [
        "# MAX\n",
        "# MIN\n",
        "\n",
        "values = np.array([[66, 54, 33, 15, 58],\n",
        "                   [55, 46, 39, 16, 38],\n",
        "                   [73, 75, 79, 25, 83],\n",
        "                   [81, 30, 22, 32, 8],\n",
        "                   [92, 25, 82, 10, 90]])\n",
        "\n",
        "np.min(values) # el valor minimo de mi array\n",
        "\n",
        "np.min(values, axis=0) # valor minimo de cada columna\n",
        "\n",
        "np.min(values, axis=1) # valor minimo de cada fila\n",
        "\n",
        "np.max(values)\n",
        "\n",
        "np.max(values, axis=0) #valor máximo de cada columna\n"
      ],
      "metadata": {
        "colab": {
          "base_uri": "https://localhost:8080/"
        },
        "id": "K_9jrjjMzbzt",
        "outputId": "b0ff30cd-57ec-4580-d0d1-50430efce8dc"
      },
      "execution_count": null,
      "outputs": [
        {
          "output_type": "execute_result",
          "data": {
            "text/plain": [
              "array([92, 75, 82, 32, 90])"
            ]
          },
          "metadata": {},
          "execution_count": 2
        }
      ]
    },
    {
      "cell_type": "markdown",
      "source": [
        "Valores máximos y minimos por indice (posición):"
      ],
      "metadata": {
        "id": "ve7kIxUFzJC-"
      }
    },
    {
      "cell_type": "code",
      "source": [
        "values = np.array([[66, 54, 33, 15, 58],\n",
        "                   [55, 46, 39, 16, 38],\n",
        "                   [73, 75, 79, 25, 83],\n",
        "                   [81, 30, 22, 32, 8],\n",
        "                   [92, 25, 82, 10, 90]])\n",
        "\n",
        "idx = np.argmax(values, axis=0) # valor maximo por columna por posición de la columna\n",
        "\n",
        "values[idx, range(values.shape[1])] # los valores de idx evaluando cantidad de columnas con range indico fila"
      ],
      "metadata": {
        "colab": {
          "base_uri": "https://localhost:8080/"
        },
        "id": "i964oABF0rH9",
        "outputId": "5c30513c-c9d0-4779-b10e-8c9780b99c5f"
      },
      "execution_count": null,
      "outputs": [
        {
          "output_type": "execute_result",
          "data": {
            "text/plain": [
              "array([92, 75, 82, 32, 90])"
            ]
          },
          "metadata": {},
          "execution_count": 3
        }
      ]
    },
    {
      "cell_type": "markdown",
      "source": [
        "Vectorizando funciones:"
      ],
      "metadata": {
        "id": "Whbo-sdyINIv"
      }
    },
    {
      "cell_type": "code",
      "source": [
        "# NP.VECTORIZE\n",
        "\n",
        "#EJERCICIO: implementar una función que realice un cálculo entre 2 matrices (a y b).\n",
        "# Con NP.VECTRORIZE podemos mejorar el rendimiento de la función que hemos diseñado, enfocado al procesamiento de arrays numéricos\n",
        "\n",
        "\n",
        "\n",
        "import numpy as np\n",
        "import random\n",
        "\n",
        "a = np.random.randint(-100, 100, size= (3000, 3000))\n",
        "b = np.random.randint(-100, 100, size= (3000, 3000))\n",
        "\n",
        "@np.vectorize\n",
        "def customf(a,b):\n",
        "  if a > b:\n",
        "    return a + b\n",
        "  elif a < b:\n",
        "    return a - b\n",
        "  else:\n",
        "    return 0\n",
        "\n",
        "print(a,b)"
      ],
      "metadata": {
        "colab": {
          "base_uri": "https://localhost:8080/"
        },
        "id": "rKjlccXIIR0I",
        "outputId": "a5d1e8bc-faf0-46d1-f9e8-4293cf4f440b"
      },
      "execution_count": null,
      "outputs": [
        {
          "output_type": "stream",
          "name": "stdout",
          "text": [
            "[[-17 -25 -27 ... -92 -96  80]\n",
            " [-21  58  37 ... -44 -58 -83]\n",
            " [-78 -31  43 ...  71  31  37]\n",
            " ...\n",
            " [-55  -3 -23 ... -71  24 -28]\n",
            " [ 13  83  29 ...  25  42 -18]\n",
            " [-33  93  83 ...  29  91 -68]] [[  8  14 -44 ... -79 -33  96]\n",
            " [-71 -24  54 ... -68  -7 -95]\n",
            " [-69  83 -54 ...  75  36 -68]\n",
            " ...\n",
            " [-94  -5 -44 ... -99  56  55]\n",
            " [-24  -5 -32 ...   7 -13 -41]\n",
            " [-78  66   8 ... -75  27 -68]]\n"
          ]
        }
      ]
    }
  ]
}