{
  "nbformat": 4,
  "nbformat_minor": 0,
  "metadata": {
    "colab": {
      "provenance": []
    },
    "kernelspec": {
      "name": "python3",
      "display_name": "Python 3"
    },
    "language_info": {
      "name": "python"
    }
  },
  "cells": [
    {
      "cell_type": "markdown",
      "source": [
        "Manipulando array"
      ],
      "metadata": {
        "id": "AK3zrEDxYCE6"
      }
    },
    {
      "cell_type": "code",
      "source": [],
      "metadata": {
        "id": "WpNQ24uHbUW9"
      },
      "execution_count": null,
      "outputs": []
    },
    {
      "cell_type": "code",
      "source": [
        "# ARRAY Y RESHAPE\n",
        "\n",
        "import numpy as np\n",
        "\n",
        "a= np.array([1,2,3,4,5,6])\n",
        "b= np.reshape(a, (3,2))\n",
        "print(b)"
      ],
      "metadata": {
        "colab": {
          "base_uri": "https://localhost:8080/"
        },
        "id": "l42oMuMxZeoC",
        "outputId": "e23e3e84-20bc-4b3c-cb31-8d175010f7f9"
      },
      "execution_count": null,
      "outputs": [
        {
          "output_type": "stream",
          "name": "stdout",
          "text": [
            "[[1 2]\n",
            " [3 4]\n",
            " [5 6]]\n"
          ]
        }
      ]
    },
    {
      "cell_type": "markdown",
      "source": [
        "Arrays unidimensionales"
      ],
      "metadata": {
        "id": "1jQuoyDAaMsY"
      }
    },
    {
      "cell_type": "code",
      "source": [
        "# ACCESO A LOS VALORES DE UN ARRAY\n",
        "\n",
        "import numpy as np\n",
        "\n",
        "ejemplo_1= np.array([10,11,12,13,14,15])\n",
        "print(ejemplo_1[2]) #accedo a la posición 2 de mi array\n",
        "print(ejemplo_1[-3]) #accedo a la posición -3 de mi array\n",
        "\n",
        "\n",
        "# MODIFICACIÓN DE UN VALOR DENTRO DE UN ARRAY\n",
        "\n",
        "ejemplo_2= np.array([10,11,12,13,14,15])\n",
        "ejemplo_2[0]= ejemplo_2[1] + ejemplo_2[5] #la posición 0 va a ser la suma de los elementos en la posición 1 + 5\n",
        "print(ejemplo_2)\n",
        "\n",
        "\n",
        "# BORRADO DE VALORES DE UN ARRAY / DELETE\n",
        "\n",
        "ejemplo_3= np.array([10,11,12,13,14,15])\n",
        "ejemplo_3= np.delete(ejemplo_3, 2) #indice como escalar, se elimina el elemento de la posición 2\n",
        "print(ejemplo_3)\n",
        "\n",
        "ejemplo_4= np.array([10,11,12,13,14,15])\n",
        "ejemplo_4= np.delete(ejemplo_4, (2,3,4)) #indice como tupla, elimina el elemento de la posición 2 y 3\n",
        "print(ejemplo_4)\n",
        "\n",
        "\n",
        "# INSERCIÓN DE NUEVOS VALORES EN UN ARRAY / APPEND E INSERT\n",
        "\n",
        "ejemplo_5= np.array([10,11,12,13,14,15])\n",
        "ejemplo_5= np.append(ejemplo_5, 16) #con append añade elementos hacia el final\n",
        "print(ejemplo_5)\n",
        "\n",
        "ejemplo_6= np.array([10,11,12,13,14,15])\n",
        "ejemplo_6= np.insert(ejemplo_6, 1, 101) #con insert añade elementos en una posición determinada\n",
        "print(ejemplo_6)\n",
        "\n"
      ],
      "metadata": {
        "colab": {
          "base_uri": "https://localhost:8080/"
        },
        "id": "_9zZRsxPaQOA",
        "outputId": "31947024-06cd-4c62-d4c2-19afc9801aa9"
      },
      "execution_count": null,
      "outputs": [
        {
          "output_type": "stream",
          "name": "stdout",
          "text": [
            "12\n",
            "13\n",
            "[26 11 12 13 14 15]\n",
            "[10 11 13 14 15]\n",
            "[10 11 15]\n",
            "[10 11 12 13 14 15 16]\n",
            "[ 10 101  11  12  13  14  15]\n"
          ]
        }
      ]
    },
    {
      "cell_type": "markdown",
      "source": [
        "Arrays multidimensionales"
      ],
      "metadata": {
        "id": "6sxaT97pedBd"
      }
    },
    {
      "cell_type": "code",
      "source": [
        "import numpy as np\n",
        "\n",
        "values_1= np.arange(1, 13).reshape(3, 4)  #arange de elementos entre 1 y 13 / reshape convierto a multidimensional de 3 filas x 4 columnas\n",
        "print(values_1)\n",
        "\n",
        "\n",
        "# ACCEDO A ELEMENTOS INDIVIDUALES\n",
        "\n",
        "a= values_1[0, 0] #accedo a la posición 0 de la fila 0\n",
        "print(a)\n",
        "\n",
        "b= values_1[-1, -1] #accedo a la posición -1 de la fila -1\n",
        "print(b)\n",
        "\n",
        "c= values_1[1, 2] #accedo a la fila 1 de la posición o elemento 2\n",
        "print(c)\n",
        "\n",
        "# ACCESO A MÚLTIPLES ELEMENTOS\n",
        "\n",
        "d= values_1[[0, 2], [1, 2]] #1)accedo a fila 0 columna 1 (2), 2)accedo a fila 2 columna 2(11)\n",
        "print(d)\n",
        "\n",
        "# ACCESO A FILAS O COLUMNAS COMPLETAS\n",
        "\n",
        "e= values_1[2] #accedo a toda la tercera fila\n",
        "print(e)\n",
        "\n",
        "f= values_1[:, 1]#accedo a toda la segunda columna\n",
        "print(f)\n",
        "\n",
        "# ACCESO A ZONAS PARCIALES DEL ARRAY\n",
        "\n",
        "g= values_1[0:2, 0:2] # accedo a las filas desde la 0 hasta la 2 y columnas desde la 0 hasta la 2\n",
        "print(g)\n",
        "\n",
        "h= values_1[0:2, [1, 3]] # accedo a las filas desde la 0 hasta la 2 y los valores de la columna 1 y valores de la columna en 3\n",
        "print(h)"
      ],
      "metadata": {
        "colab": {
          "base_uri": "https://localhost:8080/"
        },
        "id": "x1LLuCZeefKX",
        "outputId": "9aa6e9fa-73c8-43cc-c350-89175fb0fa4e"
      },
      "execution_count": null,
      "outputs": [
        {
          "output_type": "stream",
          "name": "stdout",
          "text": [
            "[[ 1  2  3  4]\n",
            " [ 5  6  7  8]\n",
            " [ 9 10 11 12]]\n",
            "1\n",
            "12\n",
            "7\n",
            "[ 2 11]\n",
            "[ 9 10 11 12]\n",
            "[ 2  6 10]\n",
            "[[1 2]\n",
            " [5 6]]\n",
            "[[2 4]\n",
            " [6 8]]\n"
          ]
        }
      ]
    },
    {
      "cell_type": "markdown",
      "source": [
        "Modificación de Arrays multidimensionales"
      ],
      "metadata": {
        "id": "MREHOsbM9Mhv"
      }
    },
    {
      "cell_type": "code",
      "source": [
        "# MODIFICACIÓN\n",
        "\n",
        "import numpy as np\n",
        "\n",
        "values= np.array([1,2,3,4,5,6,7,8,9,10,11,12])\n",
        "values= np.reshape(values, (3,4))\n",
        "print(values)\n",
        "\n",
        "print()\n",
        "\n",
        "values[0,0]=100\n",
        "print(values)\n",
        "\n",
        "print()\n",
        "\n",
        "values[1]= [55,66,77,88] #modifico toda la fila 1\n",
        "print(values)\n",
        "\n",
        "print()\n",
        "\n",
        "values[:,2]= [30,70,110]  # con : por defecto comienza en fila 0 y columna 2\n",
        "print(values)\n",
        "\n",
        "print()\n",
        "\n",
        "\n",
        "# BORRADO\n",
        "\n",
        "values= np.delete(values, 0, axis=0)  #borrado de la primera fila / el axis = 0 indica sobre fila\n",
        "print(values)\n",
        "\n",
        "print()\n",
        "\n",
        "values= np.delete(values, (1,3), axis=1) # borrado de la segunda y cuarta columna\n",
        "print(values)"
      ],
      "metadata": {
        "colab": {
          "base_uri": "https://localhost:8080/"
        },
        "id": "GkY4sQ829QfO",
        "outputId": "609986ab-b663-416c-e3c7-1f639b3f5ed5"
      },
      "execution_count": null,
      "outputs": [
        {
          "output_type": "stream",
          "name": "stdout",
          "text": [
            "[[ 1  2  3  4]\n",
            " [ 5  6  7  8]\n",
            " [ 9 10 11 12]]\n",
            "\n",
            "[[100   2   3   4]\n",
            " [  5   6   7   8]\n",
            " [  9  10  11  12]]\n",
            "\n",
            "[[100   2   3   4]\n",
            " [ 55  66  77  88]\n",
            " [  9  10  11  12]]\n",
            "\n",
            "[[100   2  30   4]\n",
            " [ 55  66  70  88]\n",
            " [  9  10 110  12]]\n",
            "\n",
            "[[ 55  66  70  88]\n",
            " [  9  10 110  12]]\n",
            "\n",
            "[[ 55  70]\n",
            " [  9 110]]\n"
          ]
        }
      ]
    },
    {
      "cell_type": "markdown",
      "source": [
        "Añadir elementos en arrays multidimensionales"
      ],
      "metadata": {
        "id": "RbDmcYg8ChkP"
      }
    },
    {
      "cell_type": "code",
      "source": [
        "# AÑADIR AL FINAL CON APPEND\n",
        "\n",
        "import numpy as np\n",
        "\n",
        "values= np.array([1,2,3,4])\n",
        "values= np.reshape(values, (2,2))\n",
        "print(values)\n",
        "\n",
        "print()\n",
        "\n",
        "values= np.append(values, [[5, 6]], axis= 0) #añade hacia el final 5 y 6 como nueva fila con axis = 0\n",
        "print(values)\n",
        "\n",
        "print()\n",
        "\n",
        "values= np.reshape(values, (2,3)) #actualizo el tamaño de mi array multidimensional para lograr la siguiente linea\n",
        "values= np.append(values, [[5], [6]], axis= 1) # agrego 5 y 6 hacia el final como columna con axis = 1\n",
        "print(values)\n",
        "\n",
        "print()\n",
        "\n",
        "# INSERTAR EN UNA POSICIÓN ARBITRARIA\n",
        "\n",
        "\n",
        "values_2= np.array([1,2,3,4])\n",
        "values_2= np.reshape(values_2, (2,2))\n",
        "print(values_2)\n",
        "\n",
        "print()\n",
        "\n",
        "values_2= np.insert(values_2, 0, [0, 0], axis= 0) # agrego en la posición 0 (fila) los valores 0 y 0 en filas por el axis= 0\n",
        "print(values_2)\n",
        "\n",
        "print()\n",
        "\n",
        "values_2= np.reshape(values_2, (2,3)) #actualizo tamaño de mi array multidimensional\n",
        "values_2= np.insert(values_2, 1, [0, 0], axis= 1) #agrego en la posicion 1(columna) los valores 0 y 0 en columna 1 por el axis= 1\n",
        "print(values_2)\n"
      ],
      "metadata": {
        "colab": {
          "base_uri": "https://localhost:8080/"
        },
        "id": "RQpxK-TNDOhS",
        "outputId": "f79f62b4-9cb0-448f-c58e-00108031cc46"
      },
      "execution_count": null,
      "outputs": [
        {
          "output_type": "stream",
          "name": "stdout",
          "text": [
            "[[1 2]\n",
            " [3 4]]\n",
            "\n",
            "[[1 2]\n",
            " [3 4]\n",
            " [5 6]]\n",
            "\n",
            "[[1 2 3 5]\n",
            " [4 5 6 6]]\n",
            "\n",
            "[[1 2]\n",
            " [3 4]]\n",
            "\n",
            "[[0 0]\n",
            " [1 2]\n",
            " [3 4]]\n",
            "\n",
            "[[0 0 0 1]\n",
            " [2 0 3 4]]\n"
          ]
        }
      ]
    },
    {
      "cell_type": "markdown",
      "source": [
        "Combinar dos o más matrices: hay veces que nos interesa combinar dos matrices(arrays en general). Una de los mecanismos que nos proporciona NumPy es el apilado."
      ],
      "metadata": {
        "id": "ytpo5oEQJl1A"
      }
    },
    {
      "cell_type": "code",
      "source": [
        "# APILADO VERTICAL\n",
        "# VSTACK\n",
        "\n",
        "import numpy as np\n",
        "\n",
        "m1= np.random.randint(1, 100, size=(3,2)) # randint numero aleatorio entre 1 y 100 con un tamaño de 3 filas por 2 columnas\n",
        "print(m1)\n",
        "\n",
        "print()\n",
        "\n",
        "m2= np.random.randint(1, 100, size=(1,2)) # randint numero aleatorio entre 1 y 100 con un tamaño de 1 fila y 2 columnas\n",
        "print(m2)\n",
        "\n",
        "print()\n",
        "\n",
        "m1_m2= np.vstack((m1, m2)) #combino matrices m1 y m2 con vstack, apilado verticalmente\n",
        "print(m1_m2)"
      ],
      "metadata": {
        "colab": {
          "base_uri": "https://localhost:8080/"
        },
        "id": "su8rJJ1eKR7H",
        "outputId": "321fb68d-27e5-471c-d497-f9090cc5b403"
      },
      "execution_count": null,
      "outputs": [
        {
          "output_type": "stream",
          "name": "stdout",
          "text": [
            "[[11 77]\n",
            " [81 60]\n",
            " [57 45]]\n",
            "\n",
            "[[65 80]]\n",
            "\n",
            "[[11 77]\n",
            " [81 60]\n",
            " [57 45]\n",
            " [65 80]]\n"
          ]
        }
      ]
    },
    {
      "cell_type": "code",
      "source": [
        "# APILADO HORIZONTAL\n",
        "# HSTACK\n",
        "\n",
        "import numpy as np\n",
        "\n",
        "m3= np.random.randint(1, 100, size=(3, 2))\n",
        "print(m3)\n",
        "\n",
        "print()\n",
        "\n",
        "m4= np.random.randint(1, 100, size=(3,1))\n",
        "print(m4)\n",
        "\n",
        "print()\n",
        "\n",
        "m3_m4= np.hstack((m3, m4)) # #combino matrices m3 y m4 con hstack, apilado horizontalmente\n",
        "print(m3_m4)\n"
      ],
      "metadata": {
        "colab": {
          "base_uri": "https://localhost:8080/"
        },
        "id": "mSpTeU-CLWd2",
        "outputId": "939d4709-a623-4745-b490-9309e0675b3c"
      },
      "execution_count": null,
      "outputs": [
        {
          "output_type": "stream",
          "name": "stdout",
          "text": [
            "[[23 68]\n",
            " [ 7 42]\n",
            " [31 10]]\n",
            "\n",
            "[[97]\n",
            " [13]\n",
            " [ 8]]\n",
            "\n",
            "[[23 68 97]\n",
            " [ 7 42 13]\n",
            " [31 10  8]]\n"
          ]
        }
      ]
    },
    {
      "cell_type": "markdown",
      "source": [
        "Repetición de elementos: repetición por ejes, el parámetro de repetición indica el número de veces que repetimos el array completo por cada eje."
      ],
      "metadata": {
        "id": "Gb550pdHMaEE"
      }
    },
    {
      "cell_type": "code",
      "source": [
        "# TILE\n",
        "\n",
        "values= np.array([[1,2],[3,4],[5,6]])\n",
        "#values= np.reshape(values, (2,2))\n",
        "print(values)\n",
        "\n",
        "print()\n",
        "\n",
        "values= np.tile(values, 3) # repite por defecto lo reconoce por 3 columnas\n",
        "print(values)\n",
        "\n",
        "print()\n",
        "\n",
        "values= np.tile(values, (2,3)) # repite por 2 filas y 3 columnas\n",
        "print(values)"
      ],
      "metadata": {
        "colab": {
          "base_uri": "https://localhost:8080/"
        },
        "id": "zzGdhPu8MjOT",
        "outputId": "a8882e57-2fe8-4900-cdee-13ba546461bf"
      },
      "execution_count": null,
      "outputs": [
        {
          "output_type": "stream",
          "name": "stdout",
          "text": [
            "[[1 2]\n",
            " [3 4]\n",
            " [5 6]]\n",
            "\n",
            "[[1 2 1 2 1 2]\n",
            " [3 4 3 4 3 4]\n",
            " [5 6 5 6 5 6]]\n",
            "\n",
            "[[1 2 1 2 1 2 1 2 1 2 1 2 1 2 1 2 1 2]\n",
            " [3 4 3 4 3 4 3 4 3 4 3 4 3 4 3 4 3 4]\n",
            " [5 6 5 6 5 6 5 6 5 6 5 6 5 6 5 6 5 6]\n",
            " [1 2 1 2 1 2 1 2 1 2 1 2 1 2 1 2 1 2]\n",
            " [3 4 3 4 3 4 3 4 3 4 3 4 3 4 3 4 3 4]\n",
            " [5 6 5 6 5 6 5 6 5 6 5 6 5 6 5 6 5 6]]\n"
          ]
        }
      ]
    },
    {
      "cell_type": "markdown",
      "source": [
        "Repetición de elementos: el parámetro de repetición indica el número de veces que repetimos cada elementos del array"
      ],
      "metadata": {
        "id": "09_SGJ4sNYoz"
      }
    },
    {
      "cell_type": "code",
      "source": [
        "# REPEAT\n",
        "\n",
        "values= np.array([[1,2],[3,4],[5,6]])\n",
        "print(values)\n",
        "\n",
        "print()\n",
        "\n",
        "values= np.repeat(values, 2) # el 2 es el parámetro de veces que quiero repetir cada elemento\n",
        "print(values)\n",
        "\n",
        "print()\n",
        "\n",
        "values= np.repeat(values, 2, axis= 0) #repite por 2 en filas\n",
        "print(values)\n",
        "\n",
        "print()\n",
        "\n",
        "values= np.repeat(values, 3, axis= 1) #repite por 3 en columnas\n",
        "print(values)"
      ],
      "metadata": {
        "colab": {
          "base_uri": "https://localhost:8080/",
          "height": 536
        },
        "id": "gX7pCcNBNbab",
        "outputId": "f8cbd8f7-1c9f-48f9-9cfd-3271512d1782"
      },
      "execution_count": null,
      "outputs": [
        {
          "output_type": "stream",
          "name": "stdout",
          "text": [
            "[[1 2]\n",
            " [3 4]\n",
            " [5 6]]\n",
            "\n",
            "[1 1 2 2 3 3 4 4 5 5 6 6]\n",
            "\n",
            "[1 1 1 1 2 2 2 2 3 3 3 3 4 4 4 4 5 5 5 5 6 6 6 6]\n",
            "\n"
          ]
        },
        {
          "output_type": "error",
          "ename": "AxisError",
          "evalue": "ignored",
          "traceback": [
            "\u001b[0;31m---------------------------------------------------------------------------\u001b[0m",
            "\u001b[0;31mAxisError\u001b[0m                                 Traceback (most recent call last)",
            "\u001b[0;32m<ipython-input-30-9bde631718f4>\u001b[0m in \u001b[0;36m<module>\u001b[0;34m\u001b[0m\n\u001b[1;32m     16\u001b[0m \u001b[0mprint\u001b[0m\u001b[0;34m(\u001b[0m\u001b[0;34m)\u001b[0m\u001b[0;34m\u001b[0m\u001b[0;34m\u001b[0m\u001b[0m\n\u001b[1;32m     17\u001b[0m \u001b[0;34m\u001b[0m\u001b[0m\n\u001b[0;32m---> 18\u001b[0;31m \u001b[0mvalues\u001b[0m\u001b[0;34m=\u001b[0m \u001b[0mnp\u001b[0m\u001b[0;34m.\u001b[0m\u001b[0mrepeat\u001b[0m\u001b[0;34m(\u001b[0m\u001b[0mvalues\u001b[0m\u001b[0;34m,\u001b[0m \u001b[0;36m3\u001b[0m\u001b[0;34m,\u001b[0m \u001b[0maxis\u001b[0m\u001b[0;34m=\u001b[0m \u001b[0;36m1\u001b[0m\u001b[0;34m)\u001b[0m \u001b[0;31m#repite por 3 en columnas\u001b[0m\u001b[0;34m\u001b[0m\u001b[0;34m\u001b[0m\u001b[0m\n\u001b[0m\u001b[1;32m     19\u001b[0m \u001b[0mprint\u001b[0m\u001b[0;34m(\u001b[0m\u001b[0mvalues\u001b[0m\u001b[0;34m)\u001b[0m\u001b[0;34m\u001b[0m\u001b[0;34m\u001b[0m\u001b[0m\n",
            "\u001b[0;32m<__array_function__ internals>\u001b[0m in \u001b[0;36mrepeat\u001b[0;34m(*args, **kwargs)\u001b[0m\n",
            "\u001b[0;32m/usr/local/lib/python3.8/dist-packages/numpy/core/fromnumeric.py\u001b[0m in \u001b[0;36mrepeat\u001b[0;34m(a, repeats, axis)\u001b[0m\n\u001b[1;32m    477\u001b[0m \u001b[0;34m\u001b[0m\u001b[0m\n\u001b[1;32m    478\u001b[0m     \"\"\"\n\u001b[0;32m--> 479\u001b[0;31m     \u001b[0;32mreturn\u001b[0m \u001b[0m_wrapfunc\u001b[0m\u001b[0;34m(\u001b[0m\u001b[0ma\u001b[0m\u001b[0;34m,\u001b[0m \u001b[0;34m'repeat'\u001b[0m\u001b[0;34m,\u001b[0m \u001b[0mrepeats\u001b[0m\u001b[0;34m,\u001b[0m \u001b[0maxis\u001b[0m\u001b[0;34m=\u001b[0m\u001b[0maxis\u001b[0m\u001b[0;34m)\u001b[0m\u001b[0;34m\u001b[0m\u001b[0;34m\u001b[0m\u001b[0m\n\u001b[0m\u001b[1;32m    480\u001b[0m \u001b[0;34m\u001b[0m\u001b[0m\n\u001b[1;32m    481\u001b[0m \u001b[0;34m\u001b[0m\u001b[0m\n",
            "\u001b[0;32m/usr/local/lib/python3.8/dist-packages/numpy/core/fromnumeric.py\u001b[0m in \u001b[0;36m_wrapfunc\u001b[0;34m(obj, method, *args, **kwds)\u001b[0m\n\u001b[1;32m     55\u001b[0m \u001b[0;34m\u001b[0m\u001b[0m\n\u001b[1;32m     56\u001b[0m     \u001b[0;32mtry\u001b[0m\u001b[0;34m:\u001b[0m\u001b[0;34m\u001b[0m\u001b[0;34m\u001b[0m\u001b[0m\n\u001b[0;32m---> 57\u001b[0;31m         \u001b[0;32mreturn\u001b[0m \u001b[0mbound\u001b[0m\u001b[0;34m(\u001b[0m\u001b[0;34m*\u001b[0m\u001b[0margs\u001b[0m\u001b[0;34m,\u001b[0m \u001b[0;34m**\u001b[0m\u001b[0mkwds\u001b[0m\u001b[0;34m)\u001b[0m\u001b[0;34m\u001b[0m\u001b[0;34m\u001b[0m\u001b[0m\n\u001b[0m\u001b[1;32m     58\u001b[0m     \u001b[0;32mexcept\u001b[0m \u001b[0mTypeError\u001b[0m\u001b[0;34m:\u001b[0m\u001b[0;34m\u001b[0m\u001b[0;34m\u001b[0m\u001b[0m\n\u001b[1;32m     59\u001b[0m         \u001b[0;31m# A TypeError occurs if the object does have such a method in its\u001b[0m\u001b[0;34m\u001b[0m\u001b[0;34m\u001b[0m\u001b[0;34m\u001b[0m\u001b[0m\n",
            "\u001b[0;31mAxisError\u001b[0m: axis 1 is out of bounds for array of dimension 1"
          ]
        }
      ]
    },
    {
      "cell_type": "markdown",
      "source": [
        "Extracción de los elementos de la diagonal: la función np.diag() permite acceder a los elementos de un array especificando un parámetro k que indica 'distancia' con la diagonal principal."
      ],
      "metadata": {
        "id": "_abNpjTfbWFy"
      }
    },
    {
      "cell_type": "code",
      "source": [
        "# DIAG\n",
        "\n",
        "import numpy as np\n",
        "\n",
        "values = np.array([[73,86,90,20],[96,55,15,48],[38,63,96,95],[13,87,32,96]])\n",
        "print(values)\n",
        "\n",
        "print()\n",
        "\n",
        "values_1 = np.diag(values) # con DIAG k = 0\n",
        "print(values_1)\n",
        "\n",
        "print()\n",
        "\n",
        "for k in range(1, values.shape[0]): #\n",
        "  print(f'k={k}', np.diag(values, k=k)) #imprime k1 diagonal medio k2 diagonal siguiente k3 diagonal siguiente hacia arriba\n",
        "\n",
        "print()\n",
        "\n",
        "for k in range(1, values.shape[0]): #\n",
        "  print(f'k={k}', np.diag(values, k=-k)) #imprime a la inversa\n"
      ],
      "metadata": {
        "colab": {
          "base_uri": "https://localhost:8080/"
        },
        "id": "K0ir9CmibjkZ",
        "outputId": "71c8a5c8-d1f2-4c0f-df60-6613b2481385"
      },
      "execution_count": null,
      "outputs": [
        {
          "output_type": "stream",
          "name": "stdout",
          "text": [
            "[[73 86 90 20]\n",
            " [96 55 15 48]\n",
            " [38 63 96 95]\n",
            " [13 87 32 96]]\n",
            "\n",
            "[73 55 96 96]\n",
            "\n",
            "k=1 [86 15 95]\n",
            "k=2 [90 48]\n",
            "k=3 [20]\n"
          ]
        }
      ]
    },
    {
      "cell_type": "markdown",
      "source": [
        "Modificación de los elementos de la diagonal: con la función np.diag_indices() retorna los indices de los elementos de la diagonal principal, con lo que podemos modificar sus valores directamente."
      ],
      "metadata": {
        "id": "THHtfJXTgQob"
      }
    },
    {
      "cell_type": "code",
      "source": [
        "# DIAG_INDICES\n",
        "\n",
        "import numpy as np\n",
        "\n",
        "values = np.array([[73,86,90,20],[96,55,15,48],[38,63,96,95],[13,87,32,96]])\n",
        "print(values)\n",
        "\n",
        "print()\n",
        "\n",
        "di= np.diag_indices(values.shape[0]) #me muestra la cantidad de elementos de mi diagonal y vertical\n",
        "print(di)\n",
        "\n",
        "print()\n",
        "\n",
        "values[di]= 0 #convierto en cero mi diagonal principal, puede ser 0 como cualquier número\n",
        "print(values)\n",
        "\n",
        "# TRIU_INDICES indices de mi diagonal superior\n",
        "\n",
        "# TRIL_INDICES  indices de mi diagonal inferior"
      ],
      "metadata": {
        "colab": {
          "base_uri": "https://localhost:8080/"
        },
        "id": "HgTLKM5PggP3",
        "outputId": "988fa0f7-f9e5-4e5c-814f-44edbc5aa5fc"
      },
      "execution_count": null,
      "outputs": [
        {
          "output_type": "stream",
          "name": "stdout",
          "text": [
            "[[73 86 90 20]\n",
            " [96 55 15 48]\n",
            " [38 63 96 95]\n",
            " [13 87 32 96]]\n",
            "\n",
            "(array([0, 1, 2, 3]), array([0, 1, 2, 3]))\n",
            "\n",
            "[[ 0 86 90 20]\n",
            " [96  0 15 48]\n",
            " [38 63  0 95]\n",
            " [13 87 32  0]]\n"
          ]
        }
      ]
    },
    {
      "cell_type": "markdown",
      "source": [],
      "metadata": {
        "id": "XXDJwWr_MIy5"
      }
    }
  ]
}