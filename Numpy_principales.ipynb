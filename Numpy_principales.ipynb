{
  "nbformat": 4,
  "nbformat_minor": 0,
  "metadata": {
    "colab": {
      "provenance": []
    },
    "kernelspec": {
      "name": "python3",
      "display_name": "Python 3"
    },
    "language_info": {
      "name": "python"
    }
  },
  "cells": [
    {
      "cell_type": "markdown",
      "source": [
        "Numpy\n",
        "\n",
        "Instalación: $ pip install numpy /n\n",
        "Importar: import numpy as np"
      ],
      "metadata": {
        "id": "VNo_UDH2XwxZ"
      }
    },
    {
      "cell_type": "code",
      "source": [
        "import numpy as np\n",
        "\n",
        "x=np.array([1,2,3,4,5])\n",
        "print(x)"
      ],
      "metadata": {
        "colab": {
          "base_uri": "https://localhost:8080/"
        },
        "id": "MMAgCcYwYabV",
        "outputId": "e161472c-2626-4da5-eaa9-a09c1ea322c2"
      },
      "execution_count": null,
      "outputs": [
        {
          "output_type": "stream",
          "name": "stdout",
          "text": [
            "[1 2 3 4 5]\n"
          ]
        }
      ]
    },
    {
      "cell_type": "markdown",
      "source": [
        "Obteniendo información sobre el array:"
      ],
      "metadata": {
        "id": "Qy2-3S96ZIlQ"
      }
    },
    {
      "cell_type": "code",
      "source": [
        "# ARRAY\n",
        "\n",
        "x=np.array([1,2,3,4,5]) # un array es un vector unidimensional\n",
        "\n",
        "print(x.ndim) #obteniendo dimensión\n",
        "\n",
        "print(x.size) #obteniendo tamaño total de array\n",
        "\n",
        "print(x.shape) #obteniendo forma\n",
        "\n",
        "print(x.dtype) #obteniendo tipo de sus elementos"
      ],
      "metadata": {
        "colab": {
          "base_uri": "https://localhost:8080/"
        },
        "id": "TnxrNPfxZFJG",
        "outputId": "275a20eb-dcdd-4dab-c58a-160d9fbd8aac"
      },
      "execution_count": null,
      "outputs": [
        {
          "output_type": "stream",
          "name": "stdout",
          "text": [
            "1\n",
            "5\n",
            "(5,)\n",
            "int64\n"
          ]
        }
      ]
    },
    {
      "cell_type": "markdown",
      "source": [
        "Tipos de datos: NumPy entiende por defecto que INT hace referencia a np.int64 y que float hace referencia a np.float64"
      ],
      "metadata": {
        "id": "y017Tm6qZ9iY"
      }
    },
    {
      "cell_type": "code",
      "source": [
        "a= np.array(range(10))\n",
        "print(a)\n",
        "\n",
        "print(a.dtype)"
      ],
      "metadata": {
        "colab": {
          "base_uri": "https://localhost:8080/"
        },
        "id": "fig8SJOlaKY0",
        "outputId": "c6c11b21-7066-44c9-f828-9c90065a2de0"
      },
      "execution_count": null,
      "outputs": [
        {
          "output_type": "stream",
          "name": "stdout",
          "text": [
            "[0 1 2 3 4 5 6 7 8 9]\n",
            "int64\n"
          ]
        }
      ]
    },
    {
      "cell_type": "markdown",
      "source": [
        "Sin embargo podemos especificar el tipo de datos que nos interesa para optimizar la memoria ocupada:"
      ],
      "metadata": {
        "id": "UxxfjX6uaYnC"
      }
    },
    {
      "cell_type": "code",
      "source": [
        "b= np.array(range(10), dtype='int32') #int32 hace referencia a np.int32\n",
        "print(b)"
      ],
      "metadata": {
        "colab": {
          "base_uri": "https://localhost:8080/"
        },
        "id": "Ewp8hG_8adKS",
        "outputId": "80cc4d09-a124-43d5-cc50-3bc7164c14f2"
      },
      "execution_count": null,
      "outputs": [
        {
          "output_type": "stream",
          "name": "stdout",
          "text": [
            "[0 1 2 3 4 5 6 7 8 9]\n"
          ]
        }
      ]
    },
    {
      "cell_type": "markdown",
      "source": [
        "ndarray vs list: el uso de ndarray frente a list está justificado por cuestiones de rendimiento. Ejemplo sumar 10 millones de valores enteros"
      ],
      "metadata": {
        "id": "uqYzelQNbW_B"
      }
    },
    {
      "cell_type": "code",
      "source": [
        "array_as_list= list(range(int(10e6)))\n",
        "array_as_ndarray= np.array(array_as_list)\n",
        "\n",
        "%timeit sum(array_as_list)\n",
        "%timeit array_as_ndarray.sum()"
      ],
      "metadata": {
        "colab": {
          "base_uri": "https://localhost:8080/"
        },
        "id": "w5fNGj1Xbh06",
        "outputId": "62fbef3b-37a0-4c53-fb92-2c14be7faaf2"
      },
      "execution_count": null,
      "outputs": [
        {
          "output_type": "stream",
          "name": "stdout",
          "text": [
            "87.9 ms ± 7.87 ms per loop (mean ± std. dev. of 7 runs, 10 loops each)\n",
            "10.8 ms ± 1.62 ms per loop (mean ± std. dev. of 7 runs, 100 loops each)\n"
          ]
        }
      ]
    },
    {
      "cell_type": "markdown",
      "source": [
        "Convertir un ndarray a lista: se puede convertir a listar cualquier ndarray mediante el método tolist()"
      ],
      "metadata": {
        "id": "epMgUUoAcZab"
      }
    },
    {
      "cell_type": "code",
      "source": [
        "# TOLIST\n",
        "\n",
        "a= np.array([10,20,30])\n",
        "print(a)\n",
        "print(type(a))\n",
        "\n",
        "b= a.tolist() #convierto un ndarray a lista con método tolist\n",
        "print(b)\n",
        "print(type(b)) #verifico con type que tipo de dato es: efectivamente cambió a una lista"
      ],
      "metadata": {
        "colab": {
          "base_uri": "https://localhost:8080/"
        },
        "id": "vpuuqXP_ccaK",
        "outputId": "d298cd95-2c9d-4a39-fd3e-2745d6d4f66c"
      },
      "execution_count": null,
      "outputs": [
        {
          "output_type": "stream",
          "name": "stdout",
          "text": [
            "[10 20 30]\n",
            "<class 'numpy.ndarray'>\n",
            "[10, 20, 30]\n",
            "<class 'list'>\n"
          ]
        }
      ]
    },
    {
      "cell_type": "markdown",
      "source": [
        "Rango de valores: NumPy tiene una función llamada np.**arange()** cuyo comportamiento es análogo a la función range()"
      ],
      "metadata": {
        "id": "APR10o8MZqcj"
      }
    },
    {
      "cell_type": "code",
      "source": [
        "# ARANGE valores int\n",
        "\n",
        "#Especificando limite superior:\n",
        "\n",
        "import numpy as np\n",
        "\n",
        "ejemplo_1= np.arange(12)\n",
        "print(ejemplo_1)\n",
        "\n",
        "#Especificando límite inferior y superior:\n",
        "\n",
        "ejemplo_2= np.arange(6, 60)\n",
        "print(ejemplo_2)\n",
        "\n",
        "\n",
        "#Especificando limite inferior, superior y paso\n",
        "\n",
        "ejemplo_3= np.arange(6, 60, 3) #star stop step\n",
        "print(ejemplo_3)\n"
      ],
      "metadata": {
        "colab": {
          "base_uri": "https://localhost:8080/"
        },
        "id": "r9WWgansZ15T",
        "outputId": "94775850-03a0-4009-df08-7cfb56766eb9"
      },
      "execution_count": null,
      "outputs": [
        {
          "output_type": "stream",
          "name": "stdout",
          "text": [
            "[ 0  1  2  3  4  5  6  7  8  9 10 11]\n",
            "[ 6  7  8  9 10 11 12 13 14 15 16 17 18 19 20 21 22 23 24 25 26 27 28 29\n",
            " 30 31 32 33 34 35 36 37 38 39 40 41 42 43 44 45 46 47 48 49 50 51 52 53\n",
            " 54 55 56 57 58 59]\n",
            "[ 6  9 12 15 18 21 24 27 30 33 36 39 42 45 48 51 54 57]\n"
          ]
        }
      ]
    },
    {
      "cell_type": "code",
      "source": [
        "# LINSPACE rango de valores float\n",
        "\n",
        "#Especificando limite inferior y superior:\n",
        "\n",
        "import numpy as np\n",
        "\n",
        "a= np.linspace(6, 60)\n",
        "print(a)\n",
        "\n",
        "b= np.linspace(6, 60, 20) # especifica limite inferior, superior y total de elementos que quiero\n",
        "print(b)"
      ],
      "metadata": {
        "colab": {
          "base_uri": "https://localhost:8080/"
        },
        "id": "YBF_whsvbNCY",
        "outputId": "3b778e8d-c7aa-4efd-c237-e01f598d7642"
      },
      "execution_count": null,
      "outputs": [
        {
          "output_type": "stream",
          "name": "stdout",
          "text": [
            "[ 6.          7.10204082  8.20408163  9.30612245 10.40816327 11.51020408\n",
            " 12.6122449  13.71428571 14.81632653 15.91836735 17.02040816 18.12244898\n",
            " 19.2244898  20.32653061 21.42857143 22.53061224 23.63265306 24.73469388\n",
            " 25.83673469 26.93877551 28.04081633 29.14285714 30.24489796 31.34693878\n",
            " 32.44897959 33.55102041 34.65306122 35.75510204 36.85714286 37.95918367\n",
            " 39.06122449 40.16326531 41.26530612 42.36734694 43.46938776 44.57142857\n",
            " 45.67346939 46.7755102  47.87755102 48.97959184 50.08163265 51.18367347\n",
            " 52.28571429 53.3877551  54.48979592 55.59183673 56.69387755 57.79591837\n",
            " 58.89795918 60.        ]\n",
            "[ 6.          8.84210526 11.68421053 14.52631579 17.36842105 20.21052632\n",
            " 23.05263158 25.89473684 28.73684211 31.57894737 34.42105263 37.26315789\n",
            " 40.10526316 42.94736842 45.78947368 48.63157895 51.47368421 54.31578947\n",
            " 57.15789474 60.        ]\n"
          ]
        }
      ]
    },
    {
      "cell_type": "markdown",
      "source": [
        "Valores aleatorios enteros"
      ],
      "metadata": {
        "id": "AMNeuymKd_3D"
      }
    },
    {
      "cell_type": "code",
      "source": [
        "# RANDINT\n",
        "\n",
        "import numpy as np\n",
        "\n",
        "a= np.random.randint(3, 30) # numero int aleatorio entre 3 y 29\n",
        "print(a)\n",
        "\n",
        "b= np.random.randint(3, 30, size=9) #vector entre 3 y 29 que contenga 9 elementos\n",
        "print(b)\n",
        "\n",
        "c= np.random.randint(3, 30, size=(3, 3)) #una matriz con 3 columnas y 3 filas\n",
        "print(c)"
      ],
      "metadata": {
        "colab": {
          "base_uri": "https://localhost:8080/"
        },
        "id": "xM1__gl9eDke",
        "outputId": "b534cbb0-f6f9-4e17-e806-6a7e0c9ac36e"
      },
      "execution_count": null,
      "outputs": [
        {
          "output_type": "stream",
          "name": "stdout",
          "text": [
            "11\n",
            "[13 22 11 26 12 15 14 10 18]\n",
            "[[27 15 23]\n",
            " [23 18 19]\n",
            " [17 18 19]]\n"
          ]
        }
      ]
    },
    {
      "cell_type": "markdown",
      "source": [
        "Valores aleatorios flotantes"
      ],
      "metadata": {
        "id": "dwBrE-2cfEaF"
      }
    },
    {
      "cell_type": "code",
      "source": [
        "# RANDOM y UNIFORM\n",
        "\n",
        "import numpy as np\n",
        "\n",
        "a= np.random.random(9)  #valores aleatorios flotantes\n",
        "print(a)\n",
        "\n",
        "b= np.random.uniform(1, 100, size=9) #valores aleatorios flotantes entre 1 y 99 que contenga 9 elementos\n",
        "print(b)"
      ],
      "metadata": {
        "colab": {
          "base_uri": "https://localhost:8080/"
        },
        "id": "l0ENprm2fG6e",
        "outputId": "445777a7-f5aa-4f48-e916-ca62b786a404"
      },
      "execution_count": null,
      "outputs": [
        {
          "output_type": "stream",
          "name": "stdout",
          "text": [
            "[0.80049464 0.39998741 0.5135468  0.43545063 0.84319865 0.09450646\n",
            " 0.34141337 0.88881597 0.52121701]\n",
            "[15.75064658  6.68604898 61.73953444 60.50734311 50.74791424 70.713184\n",
            " 77.20165592 23.095329    2.37780215]\n"
          ]
        }
      ]
    },
    {
      "cell_type": "markdown",
      "source": [
        "Valores generados de una Normal. Distribución en el que generamos un millón de valores usando como parámetros de la distribución 0 o 5"
      ],
      "metadata": {
        "id": "A4C0VJU3F1hs"
      }
    },
    {
      "cell_type": "code",
      "source": [
        "# NORMAL\n",
        "\n",
        "import numpy as np\n",
        "\n",
        "dist= np.random.normal(0, 5, size=1_000_000)\n",
        "print(dist)"
      ],
      "metadata": {
        "colab": {
          "base_uri": "https://localhost:8080/"
        },
        "id": "A1Mbv2s1GoNe",
        "outputId": "29e18493-b8f8-47c5-8050-b21002142a1e"
      },
      "execution_count": null,
      "outputs": [
        {
          "output_type": "stream",
          "name": "stdout",
          "text": [
            "[ 2.42555661 -3.86625454 -1.6062551  ...  0.2855309  -1.81378175\n",
            " 10.68279447]\n"
          ]
        }
      ]
    },
    {
      "cell_type": "markdown",
      "source": [
        "Valores generados de una Bernouilli. Muestra Aleatoria: ejemplo en el que generamos una muestra aleatoria de un millón de lanzamientos de una moneda:"
      ],
      "metadata": {
        "id": "PyBBFpqDGzMk"
      }
    },
    {
      "cell_type": "code",
      "source": [
        "# CHOICE\n",
        "\n",
        "import numpy as np\n",
        "\n",
        "coins= np.random.choice(['head', 'tail'], size=1_000_000) # con choice damos 2 parámetros(cara y cruz) con un vector de hasta 1millón de posibilidades\n",
        "print(coins) #probabilidad 50% a 50%\n",
        "\n",
        "a= sum(coins == 'head') # suma de la cantidad de veces que salieron los head\n",
        "print(a)\n",
        "\n",
        "b= sum(coins == 'tail') # suma de la cantidad de veces que salieron los tail\n",
        "print(b)\n"
      ],
      "metadata": {
        "colab": {
          "base_uri": "https://localhost:8080/"
        },
        "id": "YpgxX8gEHLYI",
        "outputId": "93cb4626-645d-4efe-dcad-4a5c8cf51dee"
      },
      "execution_count": null,
      "outputs": [
        {
          "output_type": "stream",
          "name": "stdout",
          "text": [
            "['head' 'tail' 'tail' ... 'head' 'tail' 'head']\n",
            "499692\n",
            "500308\n"
          ]
        }
      ]
    },
    {
      "cell_type": "markdown",
      "source": [
        "Constantes predefinidas en NumPy. NumPy proporciona una seria de constantes predefinidas que facilitan su acceso y reutilización"
      ],
      "metadata": {
        "id": "NTDE9_DgIVao"
      }
    },
    {
      "cell_type": "code",
      "source": [
        "import numpy as np\n",
        "\n",
        "a= np.Inf\n",
        "print(a)\n",
        "\n",
        "b= np.nan\n",
        "print(b)\n",
        "\n",
        "c= np.e\n",
        "print(c)\n",
        "\n",
        "e= np.pi\n",
        "print(e)"
      ],
      "metadata": {
        "colab": {
          "base_uri": "https://localhost:8080/"
        },
        "id": "ygYluTMyItAZ",
        "outputId": "452e5495-75c6-4a3d-f841-49a652a63861"
      },
      "execution_count": null,
      "outputs": [
        {
          "output_type": "stream",
          "name": "stdout",
          "text": [
            "inf\n",
            "nan\n",
            "2.718281828459045\n",
            "3.141592653589793\n"
          ]
        }
      ]
    }
  ]
}